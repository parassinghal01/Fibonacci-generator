{
 "cells": [
  {
   "cell_type": "code",
   "execution_count": 1,
   "id": "eb7bf945-a7a1-4d8d-b684-a992cd34b5f3",
   "metadata": {},
   "outputs": [
    {
     "name": "stdin",
     "output_type": "stream",
     "text": [
      "Enter any number 8\n"
     ]
    },
    {
     "name": "stdout",
     "output_type": "stream",
     "text": [
      "1\n",
      "1\n",
      "2\n",
      "3\n",
      "5\n",
      "8\n",
      "13\n",
      "21\n",
      "34\n"
     ]
    }
   ],
   "source": [
    "def fibonacci_series():\n",
    "    a = 0\n",
    "    b = 1\n",
    "    for i in range(num+1):\n",
    "        print(b)\n",
    "        a , b = b , a+b\n",
    "\n",
    "    return fibonacci_series\n",
    "        \n",
    "num = int(input(\"Enter any number\"))\n",
    "series = fibonacci_series()"
   ]
  },
  {
   "cell_type": "code",
   "execution_count": null,
   "id": "7ed4f6b5-7d55-4e1a-9572-ad2217657b94",
   "metadata": {},
   "outputs": [],
   "source": []
  }
 ],
 "metadata": {
  "kernelspec": {
   "display_name": "Python 3 (ipykernel)",
   "language": "python",
   "name": "python3"
  },
  "language_info": {
   "codemirror_mode": {
    "name": "ipython",
    "version": 3
   },
   "file_extension": ".py",
   "mimetype": "text/x-python",
   "name": "python",
   "nbconvert_exporter": "python",
   "pygments_lexer": "ipython3",
   "version": "3.11.5"
  }
 },
 "nbformat": 4,
 "nbformat_minor": 5
}
